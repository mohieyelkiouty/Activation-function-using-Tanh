{
 "cells": [
  {
   "cell_type": "code",
   "execution_count": 1,
   "id": "e78e5b1b",
   "metadata": {},
   "outputs": [
    {
     "name": "stdout",
     "output_type": "stream",
     "text": [
      "Network Output: [0.6361760269989584, 0.5278992611594296]\n"
     ]
    }
   ],
   "source": [
    "import math\n",
    "import random\n",
    "\n",
    "def tanh(x):\n",
    "    exp_x = math.exp(x)\n",
    "    exp_neg_x = math.exp(-x)\n",
    "    return (exp_x - exp_neg_x) / (exp_x + exp_neg_x)\n",
    "\n",
    "def dot_product(a, b):\n",
    "    return sum(x * y for x, y in zip(a, b))\n",
    "x = [0.05, 0.1]  \n",
    "w1 = [[random.uniform(-0.5, 0.5), random.uniform(-0.5, 0.5)],\n",
    "      [random.uniform(-0.5, 0.5), random.uniform(-0.5, 0.5)]] \n",
    "b1 = [0.5, 0.5] \n",
    "w2 = [[random.uniform(-0.5, 0.5), random.uniform(-0.5, 0.5)],\n",
    "      [random.uniform(-0.5, 0.5), random.uniform(-0.5, 0.5)]]\n",
    "b2 = [0.7, 0.7]\n",
    "\n",
    "hidden_input = [dot_product(x, col) + b for col, b in zip(zip(*w1), b1)]\n",
    "hidden_output = [tanh(h) for h in hidden_input]\n",
    "output_input = [dot_product(hidden_output, col) + b for col, b in zip(zip(*w2), b2)]\n",
    "output = [tanh(o) for o in output_input]\n",
    "\n",
    "print(\"Network Output:\", output)\n"
   ]
  },
  {
   "cell_type": "code",
   "execution_count": null,
   "id": "c6b82d3b",
   "metadata": {},
   "outputs": [],
   "source": []
  },
  {
   "cell_type": "code",
   "execution_count": null,
   "id": "14e9d97b",
   "metadata": {},
   "outputs": [],
   "source": []
  }
 ],
 "metadata": {
  "kernelspec": {
   "display_name": "Python 3 (ipykernel)",
   "language": "python",
   "name": "python3"
  },
  "language_info": {
   "codemirror_mode": {
    "name": "ipython",
    "version": 3
   },
   "file_extension": ".py",
   "mimetype": "text/x-python",
   "name": "python",
   "nbconvert_exporter": "python",
   "pygments_lexer": "ipython3",
   "version": "3.11.3"
  }
 },
 "nbformat": 4,
 "nbformat_minor": 5
}
